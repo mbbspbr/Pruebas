{
  "nbformat": 4,
  "nbformat_minor": 0,
  "metadata": {
    "colab": {
      "name": "Generador Imagenes Aleatorias.ipynb",
      "provenance": [],
      "collapsed_sections": [],
      "mount_file_id": "1hzfBEF1Mbc9yHZtHEzSbKRQdIsUd-pOg",
      "authorship_tag": "ABX9TyNj7g+78HXJNljeyeU9aX/5",
      "include_colab_link": true
    },
    "kernelspec": {
      "name": "python3",
      "display_name": "Python 3"
    },
    "accelerator": "GPU"
  },
  "cells": [
    {
      "cell_type": "markdown",
      "metadata": {
        "id": "view-in-github",
        "colab_type": "text"
      },
      "source": [
        "<a href=\"https://colab.research.google.com/github/mbbspbr/Pruebas/blob/master/Generador_Imagenes_Aleatorias.ipynb\" target=\"_parent\"><img src=\"https://colab.research.google.com/assets/colab-badge.svg\" alt=\"Open In Colab\"/></a>"
      ]
    },
    {
      "cell_type": "code",
      "metadata": {
        "id": "mCDAgGzzBHet",
        "colab_type": "code",
        "outputId": "d0e6f563-1380-4e60-cf40-12de8bfbac2f",
        "colab": {
          "base_uri": "https://localhost:8080/",
          "height": 34
        }
      },
      "source": [
        "%tensorflow_version 2.x\n",
        "import tensorflow as tf\n",
        "import keras\n",
        "import numpy as np\n",
        "import matplotlib\n",
        "import matplotlib.pyplot as plt\n",
        "import os"
      ],
      "execution_count": 0,
      "outputs": [
        {
          "output_type": "stream",
          "text": [
            "Using TensorFlow backend.\n"
          ],
          "name": "stderr"
        }
      ]
    },
    {
      "cell_type": "code",
      "metadata": {
        "id": "koNiicrrBTnv",
        "colab_type": "code",
        "outputId": "f12bc6b4-b91d-469b-a7e0-9e8a85c105b9",
        "colab": {
          "base_uri": "https://localhost:8080/",
          "height": 122
        }
      },
      "source": [
        "from google.colab import drive\n",
        "drive.mount(\"/content/drive\", force_remount=True)"
      ],
      "execution_count": 0,
      "outputs": [
        {
          "output_type": "stream",
          "text": [
            "Go to this URL in a browser: https://accounts.google.com/o/oauth2/auth?client_id=947318989803-6bn6qk8qdgf4n4g3pfee6491hc0brc4i.apps.googleusercontent.com&redirect_uri=urn%3aietf%3awg%3aoauth%3a2.0%3aoob&response_type=code&scope=email%20https%3a%2f%2fwww.googleapis.com%2fauth%2fdocs.test%20https%3a%2f%2fwww.googleapis.com%2fauth%2fdrive%20https%3a%2f%2fwww.googleapis.com%2fauth%2fdrive.photos.readonly%20https%3a%2f%2fwww.googleapis.com%2fauth%2fpeopleapi.readonly\n",
            "\n",
            "Enter your authorization code:\n",
            "··········\n",
            "Mounted at /content/drive\n"
          ],
          "name": "stdout"
        }
      ]
    },
    {
      "cell_type": "code",
      "metadata": {
        "id": "j22sQrehhLGn",
        "colab_type": "code",
        "outputId": "9f8a3e0b-df11-46b2-af8f-dff761fda249",
        "colab": {
          "base_uri": "https://localhost:8080/",
          "height": 34
        }
      },
      "source": [
        "cd drive/My\\ Drive"
      ],
      "execution_count": 0,
      "outputs": [
        {
          "output_type": "stream",
          "text": [
            "/content/drive/My Drive\n"
          ],
          "name": "stdout"
        }
      ]
    },
    {
      "cell_type": "code",
      "metadata": {
        "id": "QGVQ8ahQhLJs",
        "colab_type": "code",
        "outputId": "e5b4ddff-3752-4603-dc5c-76d8e2c8b2c9",
        "colab": {
          "base_uri": "https://localhost:8080/",
          "height": 34
        }
      },
      "source": [
        "cd Base/"
      ],
      "execution_count": 0,
      "outputs": [
        {
          "output_type": "stream",
          "text": [
            "/content/drive/My Drive/Base\n"
          ],
          "name": "stdout"
        }
      ]
    },
    {
      "cell_type": "code",
      "metadata": {
        "id": "BYOZFqSEBTwA",
        "colab_type": "code",
        "colab": {}
      },
      "source": [
        "\n",
        "\n",
        "import random\n",
        "import numpy as np\n",
        "import cv2\n",
        "n=4000\n",
        "for i in range(n):\n",
        "  if (i<1000):\n",
        "    # creamos una matriz de 150 x 150 con todos los colores en blanco\n",
        "    img = np.zeros((150,150,3),np.uint8)\n",
        "    # recorremos cada uno de los elementos\n",
        "    for x in range(150):\n",
        "       for y in range(150):\n",
        " \n",
        "        # Cambiamos el color de cada uno de los pixeles de forma aleatoria\n",
        "        img[x,y] = [random.randint(0,256),random.randint(0,256),random.randint(0,256)]\n",
        " \n",
        "    # guardamos la imagen jpeg\n",
        "    nombre=f\"train/label_1/train_label_1_ {i}.jpeg\"\n",
        "    cv2.imwrite(nombre,img)\n",
        "  if (i>=1000 and i<1501):\n",
        "    # creamos una matriz de 150x150 con todos los colores en blanco\n",
        "    img = np.zeros((150,150,3),np.uint8)\n",
        "    # recorremos cada uno de los elementos\n",
        "    for x in range(150):\n",
        "       for y in range(150):\n",
        " \n",
        "        # Cambiamos el color de cada uno de los pixeles de forma aleatoria\n",
        "        img[x,y] = [random.randint(0,256),random.randint(0,256),random.randint(0,256)]\n",
        " \n",
        "    # guardamos la imagen jpeg\n",
        "    nombre=f\"validation/label_1/val_label_1_ {i}.jpeg\"\n",
        "    cv2.imwrite(nombre,img)\n",
        "  if (i>1500 and i<2001):\n",
        "    # creamos una matriz de 150x150 con todos los colores en blanco\n",
        "    img = np.zeros((150,150,3),np.uint8)\n",
        "    # recorremos cada uno de los elementos\n",
        "    for x in range(150):\n",
        "       for y in range(150):\n",
        " \n",
        "        # Cambiamos el color de cada uno de los pixeles de forma aleatoria\n",
        "        img[x,y] = [random.randint(0,256),random.randint(0,256),random.randint(0,256)]\n",
        " \n",
        "    # guardamos la imagen png\n",
        "    nombre=f\"test/label_1/test_label_1_ {i}.jpeg\"\n",
        "    cv2.imwrite(nombre,img)\n",
        "  if (i>2000 and i<3001):\n",
        "    # creamos una matriz de 150x150 con todos los colores en blanco\n",
        "    img = np.zeros((150,150,3),np.uint8)\n",
        "    # recorremos cada uno de los elementos\n",
        "    for x in range(150):\n",
        "       for y in range(150):\n",
        " \n",
        "        # Cambiamos el color de cada uno de los pixeles de forma aleatoria\n",
        "        img[x,y] = [random.randint(75,256),random.randint(75,256),random.randint(75,256)]\n",
        " \n",
        "    # guardamos la imagen jpeg\n",
        "    nombre=f\"train/label_2/train_label_2_ {i}.jpeg\"\n",
        "    cv2.imwrite(nombre,img)\n",
        "  if (i>3000 and i<3501):\n",
        "    # creamos una matriz de 150x150 con todos los colores en blanco\n",
        "    img = np.zeros((150,150,3),np.uint8)\n",
        "    # recorremos cada uno de los elementos\n",
        "    for x in range(150):\n",
        "       for y in range(150):\n",
        " \n",
        "        # Cambiamos el color de cada uno de los pixeles de forma aleatoria\n",
        "        img[x,y] = [random.randint(75,256),random.randint(75,256),random.randint(75,256)]\n",
        " \n",
        "    # guardamos la imagen jpeg\n",
        "    nombre=f\"validation/label_2/val_label_2_ {i}.jpeg\"\n",
        "    cv2.imwrite(nombre,img)\n",
        "  if (i>3500) :\n",
        "    # creamos una matriz de 150x150 con todos los colores en blanco\n",
        "    img = np.zeros((150,150,3),np.uint8)\n",
        "    # recorremos cada uno de los elementos\n",
        "    for x in range(150):\n",
        "       for y in range(150):\n",
        " \n",
        "        # Cambiamos el color de cada uno de los pixeles de forma aleatoria\n",
        "        img[x,y] = [random.randint(75,256),random.randint(75,256),random.randint(75,256)]\n",
        " \n",
        "    # guardamos la imagen jpeg\n",
        "    nombre=f\"test/label_2/test_label_2_ {i}.jpeg\"\n",
        "    cv2.imwrite(nombre,img)\n"
      ],
      "execution_count": 0,
      "outputs": []
    }
  ]
}