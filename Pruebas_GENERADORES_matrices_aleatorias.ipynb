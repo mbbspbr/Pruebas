{
  "nbformat": 4,
  "nbformat_minor": 0,
  "metadata": {
    "colab": {
      "name": "Pruebas GENERADORES matrices aleatorias.ipynb",
      "provenance": [],
      "collapsed_sections": [],
      "mount_file_id": "192lBNg9E4DIeVv7I2OsuA2iUxLLqjMZm",
      "authorship_tag": "ABX9TyPrS6PhgYFUZf4spR0BP/Kj",
      "include_colab_link": true
    },
    "kernelspec": {
      "name": "python3",
      "display_name": "Python 3"
    },
    "accelerator": "GPU"
  },
  "cells": [
    {
      "cell_type": "markdown",
      "metadata": {
        "id": "view-in-github",
        "colab_type": "text"
      },
      "source": [
        "<a href=\"https://colab.research.google.com/github/mbbspbr/Pruebas/blob/master/Pruebas_GENERADORES_matrices_aleatorias.ipynb\" target=\"_parent\"><img src=\"https://colab.research.google.com/assets/colab-badge.svg\" alt=\"Open In Colab\"/></a>"
      ]
    },
    {
      "cell_type": "code",
      "metadata": {
        "id": "Qrr_fpEpOxV0",
        "colab_type": "code",
        "colab": {
          "base_uri": "https://localhost:8080/",
          "height": 34
        },
        "outputId": "373b80e7-9100-47b3-9ade-a67d69daed0f"
      },
      "source": [
        "%tensorflow_version 2.x\n",
        "import tensorflow as tf\n",
        "import keras\n",
        "import numpy as np\n",
        "import matplotlib\n",
        "import matplotlib.pyplot as plt\n",
        "import os"
      ],
      "execution_count": 1,
      "outputs": [
        {
          "output_type": "stream",
          "text": [
            "Using TensorFlow backend.\n"
          ],
          "name": "stderr"
        }
      ]
    },
    {
      "cell_type": "code",
      "metadata": {
        "id": "TbWp3SNhO3Es",
        "colab_type": "code",
        "colab": {
          "base_uri": "https://localhost:8080/",
          "height": 122
        },
        "outputId": "40ef6cdc-fa4e-4cc1-86f6-7cafa105af7d"
      },
      "source": [
        "from google.colab import drive\n",
        "drive.mount(\"/content/drive\", force_remount=True)"
      ],
      "execution_count": 2,
      "outputs": [
        {
          "output_type": "stream",
          "text": [
            "Go to this URL in a browser: https://accounts.google.com/o/oauth2/auth?client_id=947318989803-6bn6qk8qdgf4n4g3pfee6491hc0brc4i.apps.googleusercontent.com&redirect_uri=urn%3aietf%3awg%3aoauth%3a2.0%3aoob&response_type=code&scope=email%20https%3a%2f%2fwww.googleapis.com%2fauth%2fdocs.test%20https%3a%2f%2fwww.googleapis.com%2fauth%2fdrive%20https%3a%2f%2fwww.googleapis.com%2fauth%2fdrive.photos.readonly%20https%3a%2f%2fwww.googleapis.com%2fauth%2fpeopleapi.readonly\n",
            "\n",
            "Enter your authorization code:\n",
            "··········\n",
            "Mounted at /content/drive\n"
          ],
          "name": "stdout"
        }
      ]
    },
    {
      "cell_type": "code",
      "metadata": {
        "id": "QVRCV1KgO3HO",
        "colab_type": "code",
        "colab": {
          "base_uri": "https://localhost:8080/",
          "height": 34
        },
        "outputId": "a4aaba29-cdcf-4009-f3d4-0fc52f13ab52"
      },
      "source": [
        "cd drive/My\\ Drive"
      ],
      "execution_count": 7,
      "outputs": [
        {
          "output_type": "stream",
          "text": [
            "/content/drive/My Drive\n"
          ],
          "name": "stdout"
        }
      ]
    },
    {
      "cell_type": "code",
      "metadata": {
        "id": "czKS40TKO3KI",
        "colab_type": "code",
        "colab": {
          "base_uri": "https://localhost:8080/",
          "height": 34
        },
        "outputId": "b83681ad-844b-47c0-9ed2-64af0c03e8fb"
      },
      "source": [
        "cd 0Pruebas/"
      ],
      "execution_count": 8,
      "outputs": [
        {
          "output_type": "stream",
          "text": [
            "/content/drive/My Drive/0Pruebas\n"
          ],
          "name": "stdout"
        }
      ]
    },
    {
      "cell_type": "code",
      "metadata": {
        "id": "bfOQvgEKvrFr",
        "colab_type": "code",
        "colab": {
          "base_uri": "https://localhost:8080/",
          "height": 51
        },
        "outputId": "1be9f263-2dbd-4669-b78b-4f134de67b8d"
      },
      "source": [
        "cd Localizadores"
      ],
      "execution_count": 73,
      "outputs": [
        {
          "output_type": "stream",
          "text": [
            "[Errno 2] No such file or directory: 'Localizadores'\n",
            "/content/drive/My Drive/0Pruebas/Localizadores\n"
          ],
          "name": "stdout"
        }
      ]
    },
    {
      "cell_type": "code",
      "metadata": {
        "id": "778fZmSE-8gw",
        "colab_type": "code",
        "colab": {
          "base_uri": "https://localhost:8080/",
          "height": 34
        },
        "outputId": "dcbd77be-3eef-4535-89ed-7ab8d9e7e604"
      },
      "source": [
        "cd Grises/"
      ],
      "execution_count": 76,
      "outputs": [
        {
          "output_type": "stream",
          "text": [
            "/content/drive/My Drive/Grises\n"
          ],
          "name": "stdout"
        }
      ]
    },
    {
      "cell_type": "code",
      "metadata": {
        "id": "vnYzZ3fOO3M0",
        "colab_type": "code",
        "colab": {}
      },
      "source": [
        "import random\n",
        "import numpy as np\n",
        "import cv2\n",
        " "
      ],
      "execution_count": 0,
      "outputs": []
    },
    {
      "cell_type": "code",
      "metadata": {
        "id": "kvUc8W9GO3QB",
        "colab_type": "code",
        "colab": {
          "base_uri": "https://localhost:8080/",
          "height": 34
        },
        "outputId": "333e36cf-8919-47cd-8ca9-64d6d945a100"
      },
      "source": [
        "# creamos una matriz en COLOR 100x100 con todos los colores en blanco\n",
        "img = np.zeros((100,100,3),np.uint8)\n",
        " \n",
        "# recorremos cada uno de los elementos\n",
        "for x in range(100):\n",
        "    for y in range(100):\n",
        " \n",
        "        # Cambiamos el color de cada uno de los pixeles de forma aleatoria\n",
        "        img[x,y] = [random.randint(0,256),random.randint(0,256),random.randint(0,256)]\n",
        " \n",
        "# guardamos la imagen jpeg\n",
        "cv2.imwrite(\"01imagen_COLOR.jpeg\",img)"
      ],
      "execution_count": 12,
      "outputs": [
        {
          "output_type": "execute_result",
          "data": {
            "text/plain": [
              "True"
            ]
          },
          "metadata": {
            "tags": []
          },
          "execution_count": 12
        }
      ]
    },
    {
      "cell_type": "code",
      "metadata": {
        "id": "vVhHqvgGQUSP",
        "colab_type": "code",
        "colab": {}
      },
      "source": [
        ""
      ],
      "execution_count": 0,
      "outputs": []
    },
    {
      "cell_type": "code",
      "metadata": {
        "colab_type": "code",
        "outputId": "8d26c06e-1c97-4fce-dcd5-0e5c34262be3",
        "id": "wScUtW64Qvdt",
        "colab": {
          "base_uri": "https://localhost:8080/",
          "height": 34
        }
      },
      "source": [
        "# creamos una matriz en ESCALA DE GRISES 100x100 con todos los colores en blanco\n",
        "img = np.zeros((100,100,1),np.uint8)\n",
        " \n",
        "# recorremos cada uno de los elementos\n",
        "for x in range(100):\n",
        "    for y in range(100):\n",
        " \n",
        "        # Cambiamos el color de cada uno de los pixeles de forma aleatoria\n",
        "        img[x,y] = [random.randint(0,256)]\n",
        " \n",
        "# guardamos la imagen jpeg\n",
        "cv2.imwrite(\"01imagen_GREY.jpeg\",img)"
      ],
      "execution_count": 13,
      "outputs": [
        {
          "output_type": "execute_result",
          "data": {
            "text/plain": [
              "True"
            ]
          },
          "metadata": {
            "tags": []
          },
          "execution_count": 13
        }
      ]
    },
    {
      "cell_type": "markdown",
      "metadata": {
        "id": "R50gFcCyRNlQ",
        "colab_type": "text"
      },
      "source": [
        "Pruebas para modificar la matriz"
      ]
    },
    {
      "cell_type": "code",
      "metadata": {
        "id": "bG4LjxcYb0QO",
        "colab_type": "code",
        "colab": {
          "base_uri": "https://localhost:8080/",
          "height": 34
        },
        "outputId": "2c43a30d-9df8-4d46-b0e0-0ce4b6b187dc"
      },
      "source": [
        "# creamos una matriz en ESCALA DE GRISES 150x150 con todos los colores en blanco\n",
        "img = np.zeros((150,150,1),np.uint8)\n",
        " \n",
        "# recorremos cada uno de los elementos\n",
        "for x in range(150):\n",
        "    for y in range(150):\n",
        "      if (x>85 and x<101) and (y>40 and y<56):\n",
        "        # Cambiamos el color de cada uno de los pixeles de forma aleatoria\n",
        "        img[x,y] = [random.randint(255,255)]\n",
        "      else :\n",
        "        # Cambiamos el color de cada uno de los pixeles de forma aleatoria\n",
        "        img[x,y] = [random.randint(0,256)]\n",
        "# guardamos la imagen jpeg\n",
        "cv2.imwrite(\"10posicion_blanco.jpeg\",img)"
      ],
      "execution_count": 72,
      "outputs": [
        {
          "output_type": "execute_result",
          "data": {
            "text/plain": [
              "True"
            ]
          },
          "metadata": {
            "tags": []
          },
          "execution_count": 72
        }
      ]
    },
    {
      "cell_type": "code",
      "metadata": {
        "id": "6wyXVG0WvmwV",
        "colab_type": "code",
        "colab": {}
      },
      "source": [
        "import random\n",
        "import numpy as np\n",
        "import cv2"
      ],
      "execution_count": 0,
      "outputs": []
    },
    {
      "cell_type": "markdown",
      "metadata": {
        "id": "temR1czlCUsw",
        "colab_type": "text"
      },
      "source": [
        "Generar Matriz con rango completo de 0 a 255"
      ]
    },
    {
      "cell_type": "code",
      "metadata": {
        "colab_type": "code",
        "id": "TQs8vc01_UjS",
        "colab": {}
      },
      "source": [
        "\n",
        "n=750\n",
        "for i in range(n):\n",
        "     # creamos una matriz en ESCALA DE GRISES 150x150 \n",
        "     img = np.zeros((150,150,1),np.uint8)\n",
        "       # recorremos cada uno de los elementos\n",
        "     for x in range(150):\n",
        "       for y in range(150):\n",
        "         if (x>85 and x<101) and (y>40 and y<56):\n",
        "          # Cambiamos el color de cada uno de los pixeles de forma aleatoria\n",
        "            img[x,y] = [random.randint(0,256)]\n",
        "         else :\n",
        "        # Cambiamos el color de cada uno de los pixeles de forma aleatoria\n",
        "           img[x,y] = [random.randint(0,256)]\n",
        "     # guardamos la imagen jpeg\n",
        "     nombre=f\"validation/label_1/validation_label_1_ {i}.jpeg\"\n",
        "     cv2.imwrite(nombre,img)"
      ],
      "execution_count": 0,
      "outputs": []
    },
    {
      "cell_type": "code",
      "metadata": {
        "id": "Qtn57WBrvm2U",
        "colab_type": "code",
        "colab": {}
      },
      "source": [
        "Generar Matriz con rango limitado 20 % POSICION 1 "
      ],
      "execution_count": 0,
      "outputs": []
    },
    {
      "cell_type": "code",
      "metadata": {
        "colab_type": "code",
        "id": "CNgjC2lxCq8z",
        "colab": {}
      },
      "source": [
        "n=75\n",
        "for i in range(n):\n",
        "     # creamos una matriz en ESCALA DE GRISES 150x150 \n",
        "     img = np.zeros((150,150,1),np.uint8)\n",
        "       # recorremos cada uno de los elementos\n",
        "     for x in range(150):\n",
        "       for y in range(150):\n",
        "         if (x>10 and x<26) and (y>10 and y<26):\n",
        "          # Cambiamos el color de cada uno de los pixeles de forma aleatoria\n",
        "            img[x,y] = [random.randint(26,230)]\n",
        "         else :\n",
        "        # Cambiamos el color de cada uno de los pixeles de forma aleatoria\n",
        "           img[x,y] = [random.randint(0,256)]\n",
        "     # guardamos la imagen jpeg\n",
        "     nombre=f\"test/label_2/01test_label_2_ {i}.jpeg\"\n",
        "     cv2.imwrite(nombre,img)"
      ],
      "execution_count": 0,
      "outputs": []
    },
    {
      "cell_type": "markdown",
      "metadata": {
        "id": "YgUVSB33DT5k",
        "colab_type": "text"
      },
      "source": [
        "Generar Matriz con rango limitado 20 % POSICION 2"
      ]
    },
    {
      "cell_type": "code",
      "metadata": {
        "colab_type": "code",
        "id": "Qg70JJJPDcW8",
        "colab": {}
      },
      "source": [
        "n=75\n",
        "for i in range(n):\n",
        "     # creamos una matriz en ESCALA DE GRISES 150x150 \n",
        "     img = np.zeros((150,150,1),np.uint8)\n",
        "       # recorremos cada uno de los elementos\n",
        "     for x in range(150):\n",
        "       for y in range(150):\n",
        "         if (x>10 and x<26) and (y>67 and y<83):\n",
        "          # Cambiamos el color de cada uno de los pixeles de forma aleatoria\n",
        "            img[x,y] = [random.randint(26,230)]\n",
        "         else :\n",
        "        # Cambiamos el color de cada uno de los pixeles de forma aleatoria\n",
        "           img[x,y] = [random.randint(0,256)]\n",
        "     # guardamos la imagen jpeg\n",
        "     nombre=f\"test/label_2/02test_label_2_ {i}.jpeg\"\n",
        "     cv2.imwrite(nombre,img)"
      ],
      "execution_count": 0,
      "outputs": []
    },
    {
      "cell_type": "markdown",
      "metadata": {
        "id": "-ir_0ZE2Eg2K",
        "colab_type": "text"
      },
      "source": [
        "Generar Matriz con rango limitado 20 % POSICION 3"
      ]
    },
    {
      "cell_type": "code",
      "metadata": {
        "colab_type": "code",
        "id": "mv6IIHFkDvn2",
        "colab": {}
      },
      "source": [
        "\n",
        "n=75\n",
        "for i in range(n):\n",
        "     # creamos una matriz en ESCALA DE GRISES 150x150 \n",
        "     img = np.zeros((150,150,1),np.uint8)\n",
        "       # recorremos cada uno de los elementos\n",
        "     for x in range(150):\n",
        "       for y in range(150):\n",
        "         if (x>10 and x<26) and (y>110 and y<126):\n",
        "          # Cambiamos el color de cada uno de los pixeles de forma aleatoria\n",
        "            img[x,y] = [random.randint(26,230)]\n",
        "         else :\n",
        "        # Cambiamos el color de cada uno de los pixeles de forma aleatoria\n",
        "           img[x,y] = [random.randint(0,256)]\n",
        "     # guardamos la imagen jpeg\n",
        "     nombre=f\"test/label_2/03test_label_2_ {i}.jpeg\"\n",
        "     cv2.imwrite(nombre,img)"
      ],
      "execution_count": 0,
      "outputs": []
    },
    {
      "cell_type": "markdown",
      "metadata": {
        "id": "3455eJnTEoCg",
        "colab_type": "text"
      },
      "source": [
        "Generar Matriz con rango limitado 20 % POSICION 4"
      ]
    },
    {
      "cell_type": "code",
      "metadata": {
        "colab_type": "code",
        "id": "HVzpshe6D44S",
        "colab": {}
      },
      "source": [
        "n=75\n",
        "for i in range(n):\n",
        "     # creamos una matriz en ESCALA DE GRISES 150x150 \n",
        "     img = np.zeros((150,150,1),np.uint8)\n",
        "       # recorremos cada uno de los elementos\n",
        "     for x in range(150):\n",
        "       for y in range(150):\n",
        "         if (x>67 and x<83) and (y>110 and y<126):\n",
        "          # Cambiamos el color de cada uno de los pixeles de forma aleatoria\n",
        "            img[x,y] = [random.randint(26,230)]\n",
        "         else :\n",
        "        # Cambiamos el color de cada uno de los pixeles de forma aleatoria\n",
        "           img[x,y] = [random.randint(0,256)]\n",
        "     # guardamos la imagen jpeg\n",
        "     nombre=f\"test/label_2/04test_label_2_ {i}.jpeg\"\n",
        "     cv2.imwrite(nombre,img)"
      ],
      "execution_count": 0,
      "outputs": []
    },
    {
      "cell_type": "markdown",
      "metadata": {
        "colab_type": "text",
        "id": "8ZFZlUEaFAm9"
      },
      "source": [
        "Generar Matriz con rango limitado 20 % POSICION 5"
      ]
    },
    {
      "cell_type": "code",
      "metadata": {
        "colab_type": "code",
        "id": "anzXEfHIFfwW",
        "colab": {}
      },
      "source": [
        "n=75\n",
        "for i in range(n):\n",
        "     # creamos una matriz en ESCALA DE GRISES 150x150 \n",
        "     img = np.zeros((150,150,1),np.uint8)\n",
        "       # recorremos cada uno de los elementos\n",
        "     for x in range(150):\n",
        "       for y in range(150):\n",
        "         if (x>110 and x<126) and (y>110 and y<126):\n",
        "          # Cambiamos el color de cada uno de los pixeles de forma aleatoria\n",
        "            img[x,y] = [random.randint(26,230)]\n",
        "         else :\n",
        "        # Cambiamos el color de cada uno de los pixeles de forma aleatoria\n",
        "           img[x,y] = [random.randint(0,256)]\n",
        "     # guardamos la imagen jpeg\n",
        "     nombre=f\"test/label_2/05test_label_2_ {i}.jpeg\"\n",
        "     cv2.imwrite(nombre,img)"
      ],
      "execution_count": 0,
      "outputs": []
    },
    {
      "cell_type": "markdown",
      "metadata": {
        "colab_type": "text",
        "id": "K444WD4EFGYt"
      },
      "source": [
        "Generar Matriz con rango limitado 20 % POSICION 6"
      ]
    },
    {
      "cell_type": "code",
      "metadata": {
        "colab_type": "code",
        "id": "jYZxvF6JFnFG",
        "colab": {}
      },
      "source": [
        "n=75\n",
        "for i in range(n):\n",
        "     # creamos una matriz en ESCALA DE GRISES 150x150 \n",
        "     img = np.zeros((150,150,1),np.uint8)\n",
        "       # recorremos cada uno de los elementos\n",
        "     for x in range(150):\n",
        "       for y in range(150):\n",
        "         if (x>110 and x<126) and (y>67 and y<83):\n",
        "          # Cambiamos el color de cada uno de los pixeles de forma aleatoria\n",
        "            img[x,y] = [random.randint(26,230)]\n",
        "         else :\n",
        "        # Cambiamos el color de cada uno de los pixeles de forma aleatoria\n",
        "           img[x,y] = [random.randint(0,256)]\n",
        "     # guardamos la imagen jpeg\n",
        "     nombre=f\"test/label_2/06test_label_2_ {i}.jpeg\"\n",
        "     cv2.imwrite(nombre,img)"
      ],
      "execution_count": 0,
      "outputs": []
    },
    {
      "cell_type": "markdown",
      "metadata": {
        "colab_type": "text",
        "id": "coOuWwoAFIaE"
      },
      "source": [
        "Generar Matriz con rango limitado 20 % POSICION 7"
      ]
    },
    {
      "cell_type": "code",
      "metadata": {
        "colab_type": "code",
        "id": "yoCwco02Fvcy",
        "colab": {}
      },
      "source": [
        "n=75\n",
        "for i in range(n):\n",
        "     # creamos una matriz en ESCALA DE GRISES 150x150 \n",
        "     img = np.zeros((150,150,1),np.uint8)\n",
        "       # recorremos cada uno de los elementos\n",
        "     for x in range(150):\n",
        "       for y in range(150):\n",
        "         if (x>110 and x<126) and (y>10 and y<26):\n",
        "          # Cambiamos el color de cada uno de los pixeles de forma aleatoria\n",
        "            img[x,y] = [random.randint(26,230)]\n",
        "         else :\n",
        "        # Cambiamos el color de cada uno de los pixeles de forma aleatoria\n",
        "           img[x,y] = [random.randint(0,256)]\n",
        "     # guardamos la imagen jpeg\n",
        "     nombre=f\"test/label_2/07test_label_2_ {i}.jpeg\"\n",
        "     cv2.imwrite(nombre,img)"
      ],
      "execution_count": 0,
      "outputs": []
    },
    {
      "cell_type": "markdown",
      "metadata": {
        "colab_type": "text",
        "id": "llyEjYnkFWni"
      },
      "source": [
        "Generar Matriz con rango limitado 20 % POSICION 8"
      ]
    },
    {
      "cell_type": "code",
      "metadata": {
        "colab_type": "code",
        "id": "aHrvpstJF2A0",
        "colab": {}
      },
      "source": [
        "n=75\n",
        "for i in range(n):\n",
        "     # creamos una matriz en ESCALA DE GRISES 150x150 \n",
        "     img = np.zeros((150,150,1),np.uint8)\n",
        "       # recorremos cada uno de los elementos\n",
        "     for x in range(150):\n",
        "       for y in range(150):\n",
        "         if (x>67 and x<83) and (y>10 and y<26):\n",
        "          # Cambiamos el color de cada uno de los pixeles de forma aleatoria\n",
        "            img[x,y] = [random.randint(26,230)]\n",
        "         else :\n",
        "        # Cambiamos el color de cada uno de los pixeles de forma aleatoria\n",
        "           img[x,y] = [random.randint(0,256)]\n",
        "     # guardamos la imagen jpeg\n",
        "     nombre=f\"test/label_2/08test_label_2_ {i}.jpeg\"\n",
        "     cv2.imwrite(nombre,img)"
      ],
      "execution_count": 0,
      "outputs": []
    },
    {
      "cell_type": "markdown",
      "metadata": {
        "colab_type": "text",
        "id": "kJAECgeAFYWE"
      },
      "source": [
        "Generar Matriz con rango limitado 20 % POSICION 9"
      ]
    },
    {
      "cell_type": "code",
      "metadata": {
        "colab_type": "code",
        "id": "JwQRDinBF5A5",
        "colab": {}
      },
      "source": [
        "n=75\n",
        "for i in range(n):\n",
        "     # creamos una matriz en ESCALA DE GRISES 150x150 \n",
        "     img = np.zeros((150,150,1),np.uint8)\n",
        "       # recorremos cada uno de los elementos\n",
        "     for x in range(150):\n",
        "       for y in range(150):\n",
        "         if (x>67 and x<83) and (y>67 and y<83):\n",
        "          # Cambiamos el color de cada uno de los pixeles de forma aleatoria\n",
        "            img[x,y] = [random.randint(26,230)]\n",
        "         else :\n",
        "        # Cambiamos el color de cada uno de los pixeles de forma aleatoria\n",
        "           img[x,y] = [random.randint(0,256)]\n",
        "     # guardamos la imagen jpeg\n",
        "     nombre=f\"test/label_2/09test_label_2_ {i}.jpeg\"\n",
        "     cv2.imwrite(nombre,img)"
      ],
      "execution_count": 0,
      "outputs": []
    },
    {
      "cell_type": "markdown",
      "metadata": {
        "colab_type": "text",
        "id": "wByHo7IPFagM"
      },
      "source": [
        "Generar Matriz con rango limitado 20 % POSICION 10\n",
        "\n",
        "---\n",
        "\n"
      ]
    },
    {
      "cell_type": "code",
      "metadata": {
        "colab_type": "code",
        "id": "_H_61_c3F-Ye",
        "colab": {}
      },
      "source": [
        "n=75\n",
        "for i in range(n):\n",
        "     # creamos una matriz en ESCALA DE GRISES 150x150 \n",
        "     img = np.zeros((150,150,1),np.uint8)\n",
        "       # recorremos cada uno de los elementos\n",
        "     for x in range(150):\n",
        "       for y in range(150):\n",
        "         if (x>85 and x<101) and (y>40 and y<56):\n",
        "          # Cambiamos el color de cada uno de los pixeles de forma aleatoria\n",
        "            img[x,y] = [random.randint(26,230)]\n",
        "         else :\n",
        "        # Cambiamos el color de cada uno de los pixeles de forma aleatoria\n",
        "           img[x,y] = [random.randint(0,256)]\n",
        "     # guardamos la imagen jpeg\n",
        "     nombre=f\"test/label_2/10test_label_2_ {i}.jpeg\"\n",
        "     cv2.imwrite(nombre,img)"
      ],
      "execution_count": 0,
      "outputs": []
    }
  ]
}